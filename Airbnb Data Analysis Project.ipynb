{
 "cells": [
  {
   "cell_type": "markdown",
   "id": "59c7200f",
   "metadata": {},
   "source": [
    "# Airbnb"
   ]
  },
  {
   "cell_type": "markdown",
   "id": "20e9c57c",
   "metadata": {},
   "source": [
    "## It is an American company that operates an online marketplace for lodging, primarily homestays for vacation rentals, and tourism activities. Since 2008 a lot of hosts and guests have used Airbnb for stay purpose to travel conveniently and lead a professional view of life, now it became one of the world’s largest service that is recognized by everyone\n",
    "## I chose this dataset because, since Airbnb has become large and it needs some changes based on the customers reviews, by analysing the data Airbnb can take business decisions, guiding marketing initiatives, implementation of additional services and much more.\n"
   ]
  },
  {
   "cell_type": "markdown",
   "id": "f589c4e9",
   "metadata": {},
   "source": [
    "### Loading Libraries"
   ]
  },
  {
   "cell_type": "code",
   "execution_count": 2,
   "id": "b72f87d9",
   "metadata": {},
   "outputs": [],
   "source": [
    "import pandas as pd\n",
    "import numpy as np\n",
    "import matplotlib.pyplot as plt\n",
    "import seaborn as sns\n",
    "import warnings\n",
    "%matplotlib inline"
   ]
  },
  {
   "cell_type": "markdown",
   "id": "b513d974",
   "metadata": {},
   "source": [
    "### Reading the csv file from the data location"
   ]
  },
  {
   "cell_type": "code",
   "execution_count": 3,
   "id": "edbd26d7",
   "metadata": {},
   "outputs": [
    {
     "data": {
      "text/html": [
       "<div>\n",
       "<style scoped>\n",
       "    .dataframe tbody tr th:only-of-type {\n",
       "        vertical-align: middle;\n",
       "    }\n",
       "\n",
       "    .dataframe tbody tr th {\n",
       "        vertical-align: top;\n",
       "    }\n",
       "\n",
       "    .dataframe thead th {\n",
       "        text-align: right;\n",
       "    }\n",
       "</style>\n",
       "<table border=\"1\" class=\"dataframe\">\n",
       "  <thead>\n",
       "    <tr style=\"text-align: right;\">\n",
       "      <th></th>\n",
       "      <th>id</th>\n",
       "      <th>name</th>\n",
       "      <th>host_id</th>\n",
       "      <th>host_name</th>\n",
       "      <th>neighbourhood_group</th>\n",
       "      <th>neighbourhood</th>\n",
       "      <th>latitude</th>\n",
       "      <th>longitude</th>\n",
       "      <th>room_type</th>\n",
       "      <th>price</th>\n",
       "      <th>minimum_nights</th>\n",
       "      <th>number_of_reviews</th>\n",
       "      <th>last_review</th>\n",
       "      <th>reviews_per_month</th>\n",
       "      <th>calculated_host_listings_count</th>\n",
       "      <th>availability_365</th>\n",
       "    </tr>\n",
       "  </thead>\n",
       "  <tbody>\n",
       "    <tr>\n",
       "      <th>0</th>\n",
       "      <td>2539</td>\n",
       "      <td>Clean &amp; quiet apt home by the park</td>\n",
       "      <td>2787</td>\n",
       "      <td>John</td>\n",
       "      <td>Brooklyn</td>\n",
       "      <td>Kensington</td>\n",
       "      <td>40.64749</td>\n",
       "      <td>-73.97237</td>\n",
       "      <td>Private room</td>\n",
       "      <td>149</td>\n",
       "      <td>1</td>\n",
       "      <td>9</td>\n",
       "      <td>2018-10-19</td>\n",
       "      <td>0.21</td>\n",
       "      <td>6</td>\n",
       "      <td>365</td>\n",
       "    </tr>\n",
       "    <tr>\n",
       "      <th>1</th>\n",
       "      <td>2595</td>\n",
       "      <td>Skylit Midtown Castle</td>\n",
       "      <td>2845</td>\n",
       "      <td>Jennifer</td>\n",
       "      <td>Manhattan</td>\n",
       "      <td>Midtown</td>\n",
       "      <td>40.75362</td>\n",
       "      <td>-73.98377</td>\n",
       "      <td>Entire home/apt</td>\n",
       "      <td>225</td>\n",
       "      <td>1</td>\n",
       "      <td>45</td>\n",
       "      <td>2019-05-21</td>\n",
       "      <td>0.38</td>\n",
       "      <td>2</td>\n",
       "      <td>355</td>\n",
       "    </tr>\n",
       "    <tr>\n",
       "      <th>2</th>\n",
       "      <td>3647</td>\n",
       "      <td>THE VILLAGE OF HARLEM....NEW YORK !</td>\n",
       "      <td>4632</td>\n",
       "      <td>Elisabeth</td>\n",
       "      <td>Manhattan</td>\n",
       "      <td>Harlem</td>\n",
       "      <td>40.80902</td>\n",
       "      <td>-73.94190</td>\n",
       "      <td>Private room</td>\n",
       "      <td>150</td>\n",
       "      <td>3</td>\n",
       "      <td>0</td>\n",
       "      <td>NaN</td>\n",
       "      <td>NaN</td>\n",
       "      <td>1</td>\n",
       "      <td>365</td>\n",
       "    </tr>\n",
       "    <tr>\n",
       "      <th>3</th>\n",
       "      <td>3831</td>\n",
       "      <td>Cozy Entire Floor of Brownstone</td>\n",
       "      <td>4869</td>\n",
       "      <td>LisaRoxanne</td>\n",
       "      <td>Brooklyn</td>\n",
       "      <td>Clinton Hill</td>\n",
       "      <td>40.68514</td>\n",
       "      <td>-73.95976</td>\n",
       "      <td>Entire home/apt</td>\n",
       "      <td>89</td>\n",
       "      <td>1</td>\n",
       "      <td>270</td>\n",
       "      <td>2019-07-05</td>\n",
       "      <td>4.64</td>\n",
       "      <td>1</td>\n",
       "      <td>194</td>\n",
       "    </tr>\n",
       "    <tr>\n",
       "      <th>4</th>\n",
       "      <td>5022</td>\n",
       "      <td>Entire Apt: Spacious Studio/Loft by central park</td>\n",
       "      <td>7192</td>\n",
       "      <td>Laura</td>\n",
       "      <td>Manhattan</td>\n",
       "      <td>East Harlem</td>\n",
       "      <td>40.79851</td>\n",
       "      <td>-73.94399</td>\n",
       "      <td>Entire home/apt</td>\n",
       "      <td>80</td>\n",
       "      <td>10</td>\n",
       "      <td>9</td>\n",
       "      <td>2018-11-19</td>\n",
       "      <td>0.10</td>\n",
       "      <td>1</td>\n",
       "      <td>0</td>\n",
       "    </tr>\n",
       "  </tbody>\n",
       "</table>\n",
       "</div>"
      ],
      "text/plain": [
       "     id                                              name  host_id  \\\n",
       "0  2539                Clean & quiet apt home by the park     2787   \n",
       "1  2595                             Skylit Midtown Castle     2845   \n",
       "2  3647               THE VILLAGE OF HARLEM....NEW YORK !     4632   \n",
       "3  3831                   Cozy Entire Floor of Brownstone     4869   \n",
       "4  5022  Entire Apt: Spacious Studio/Loft by central park     7192   \n",
       "\n",
       "     host_name neighbourhood_group neighbourhood  latitude  longitude  \\\n",
       "0         John            Brooklyn    Kensington  40.64749  -73.97237   \n",
       "1     Jennifer           Manhattan       Midtown  40.75362  -73.98377   \n",
       "2    Elisabeth           Manhattan        Harlem  40.80902  -73.94190   \n",
       "3  LisaRoxanne            Brooklyn  Clinton Hill  40.68514  -73.95976   \n",
       "4        Laura           Manhattan   East Harlem  40.79851  -73.94399   \n",
       "\n",
       "         room_type  price  minimum_nights  number_of_reviews last_review  \\\n",
       "0     Private room    149               1                  9  2018-10-19   \n",
       "1  Entire home/apt    225               1                 45  2019-05-21   \n",
       "2     Private room    150               3                  0         NaN   \n",
       "3  Entire home/apt     89               1                270  2019-07-05   \n",
       "4  Entire home/apt     80              10                  9  2018-11-19   \n",
       "\n",
       "   reviews_per_month  calculated_host_listings_count  availability_365  \n",
       "0               0.21                               6               365  \n",
       "1               0.38                               2               355  \n",
       "2                NaN                               1               365  \n",
       "3               4.64                               1               194  \n",
       "4               0.10                               1                 0  "
      ]
     },
     "execution_count": 3,
     "metadata": {},
     "output_type": "execute_result"
    }
   ],
   "source": [
    "data = pd.read_csv(r'C:\\Users\\somas\\Documents\\Datasets\\AB_NYC_2019.csv')\n",
    "data.head()"
   ]
  },
  {
   "cell_type": "code",
   "execution_count": 4,
   "id": "a6d6ada9",
   "metadata": {},
   "outputs": [
    {
     "data": {
      "text/plain": [
       "Index(['id', 'name', 'host_id', 'host_name', 'neighbourhood_group',\n",
       "       'neighbourhood', 'latitude', 'longitude', 'room_type', 'price',\n",
       "       'minimum_nights', 'number_of_reviews', 'last_review',\n",
       "       'reviews_per_month', 'calculated_host_listings_count',\n",
       "       'availability_365'],\n",
       "      dtype='object')"
      ]
     },
     "execution_count": 4,
     "metadata": {},
     "output_type": "execute_result"
    }
   ],
   "source": [
    "data.columns"
   ]
  },
  {
   "cell_type": "code",
   "execution_count": 5,
   "id": "74712560",
   "metadata": {},
   "outputs": [],
   "source": [
    "data.drop(['id','host_id'],axis=1,inplace = True)"
   ]
  },
  {
   "cell_type": "code",
   "execution_count": 6,
   "id": "84e0cd7f",
   "metadata": {},
   "outputs": [
    {
     "data": {
      "text/html": [
       "<div>\n",
       "<style scoped>\n",
       "    .dataframe tbody tr th:only-of-type {\n",
       "        vertical-align: middle;\n",
       "    }\n",
       "\n",
       "    .dataframe tbody tr th {\n",
       "        vertical-align: top;\n",
       "    }\n",
       "\n",
       "    .dataframe thead th {\n",
       "        text-align: right;\n",
       "    }\n",
       "</style>\n",
       "<table border=\"1\" class=\"dataframe\">\n",
       "  <thead>\n",
       "    <tr style=\"text-align: right;\">\n",
       "      <th></th>\n",
       "      <th>name</th>\n",
       "      <th>host_name</th>\n",
       "      <th>neighbourhood_group</th>\n",
       "      <th>neighbourhood</th>\n",
       "      <th>latitude</th>\n",
       "      <th>longitude</th>\n",
       "      <th>room_type</th>\n",
       "      <th>price</th>\n",
       "      <th>minimum_nights</th>\n",
       "      <th>number_of_reviews</th>\n",
       "      <th>last_review</th>\n",
       "      <th>reviews_per_month</th>\n",
       "      <th>calculated_host_listings_count</th>\n",
       "      <th>availability_365</th>\n",
       "    </tr>\n",
       "  </thead>\n",
       "  <tbody>\n",
       "    <tr>\n",
       "      <th>0</th>\n",
       "      <td>Clean &amp; quiet apt home by the park</td>\n",
       "      <td>John</td>\n",
       "      <td>Brooklyn</td>\n",
       "      <td>Kensington</td>\n",
       "      <td>40.64749</td>\n",
       "      <td>-73.97237</td>\n",
       "      <td>Private room</td>\n",
       "      <td>149</td>\n",
       "      <td>1</td>\n",
       "      <td>9</td>\n",
       "      <td>2018-10-19</td>\n",
       "      <td>0.21</td>\n",
       "      <td>6</td>\n",
       "      <td>365</td>\n",
       "    </tr>\n",
       "    <tr>\n",
       "      <th>1</th>\n",
       "      <td>Skylit Midtown Castle</td>\n",
       "      <td>Jennifer</td>\n",
       "      <td>Manhattan</td>\n",
       "      <td>Midtown</td>\n",
       "      <td>40.75362</td>\n",
       "      <td>-73.98377</td>\n",
       "      <td>Entire home/apt</td>\n",
       "      <td>225</td>\n",
       "      <td>1</td>\n",
       "      <td>45</td>\n",
       "      <td>2019-05-21</td>\n",
       "      <td>0.38</td>\n",
       "      <td>2</td>\n",
       "      <td>355</td>\n",
       "    </tr>\n",
       "    <tr>\n",
       "      <th>2</th>\n",
       "      <td>THE VILLAGE OF HARLEM....NEW YORK !</td>\n",
       "      <td>Elisabeth</td>\n",
       "      <td>Manhattan</td>\n",
       "      <td>Harlem</td>\n",
       "      <td>40.80902</td>\n",
       "      <td>-73.94190</td>\n",
       "      <td>Private room</td>\n",
       "      <td>150</td>\n",
       "      <td>3</td>\n",
       "      <td>0</td>\n",
       "      <td>NaN</td>\n",
       "      <td>NaN</td>\n",
       "      <td>1</td>\n",
       "      <td>365</td>\n",
       "    </tr>\n",
       "    <tr>\n",
       "      <th>3</th>\n",
       "      <td>Cozy Entire Floor of Brownstone</td>\n",
       "      <td>LisaRoxanne</td>\n",
       "      <td>Brooklyn</td>\n",
       "      <td>Clinton Hill</td>\n",
       "      <td>40.68514</td>\n",
       "      <td>-73.95976</td>\n",
       "      <td>Entire home/apt</td>\n",
       "      <td>89</td>\n",
       "      <td>1</td>\n",
       "      <td>270</td>\n",
       "      <td>2019-07-05</td>\n",
       "      <td>4.64</td>\n",
       "      <td>1</td>\n",
       "      <td>194</td>\n",
       "    </tr>\n",
       "    <tr>\n",
       "      <th>4</th>\n",
       "      <td>Entire Apt: Spacious Studio/Loft by central park</td>\n",
       "      <td>Laura</td>\n",
       "      <td>Manhattan</td>\n",
       "      <td>East Harlem</td>\n",
       "      <td>40.79851</td>\n",
       "      <td>-73.94399</td>\n",
       "      <td>Entire home/apt</td>\n",
       "      <td>80</td>\n",
       "      <td>10</td>\n",
       "      <td>9</td>\n",
       "      <td>2018-11-19</td>\n",
       "      <td>0.10</td>\n",
       "      <td>1</td>\n",
       "      <td>0</td>\n",
       "    </tr>\n",
       "    <tr>\n",
       "      <th>...</th>\n",
       "      <td>...</td>\n",
       "      <td>...</td>\n",
       "      <td>...</td>\n",
       "      <td>...</td>\n",
       "      <td>...</td>\n",
       "      <td>...</td>\n",
       "      <td>...</td>\n",
       "      <td>...</td>\n",
       "      <td>...</td>\n",
       "      <td>...</td>\n",
       "      <td>...</td>\n",
       "      <td>...</td>\n",
       "      <td>...</td>\n",
       "      <td>...</td>\n",
       "    </tr>\n",
       "    <tr>\n",
       "      <th>48890</th>\n",
       "      <td>Charming one bedroom - newly renovated rowhouse</td>\n",
       "      <td>Sabrina</td>\n",
       "      <td>Brooklyn</td>\n",
       "      <td>Bedford-Stuyvesant</td>\n",
       "      <td>40.67853</td>\n",
       "      <td>-73.94995</td>\n",
       "      <td>Private room</td>\n",
       "      <td>70</td>\n",
       "      <td>2</td>\n",
       "      <td>0</td>\n",
       "      <td>NaN</td>\n",
       "      <td>NaN</td>\n",
       "      <td>2</td>\n",
       "      <td>9</td>\n",
       "    </tr>\n",
       "    <tr>\n",
       "      <th>48891</th>\n",
       "      <td>Affordable room in Bushwick/East Williamsburg</td>\n",
       "      <td>Marisol</td>\n",
       "      <td>Brooklyn</td>\n",
       "      <td>Bushwick</td>\n",
       "      <td>40.70184</td>\n",
       "      <td>-73.93317</td>\n",
       "      <td>Private room</td>\n",
       "      <td>40</td>\n",
       "      <td>4</td>\n",
       "      <td>0</td>\n",
       "      <td>NaN</td>\n",
       "      <td>NaN</td>\n",
       "      <td>2</td>\n",
       "      <td>36</td>\n",
       "    </tr>\n",
       "    <tr>\n",
       "      <th>48892</th>\n",
       "      <td>Sunny Studio at Historical Neighborhood</td>\n",
       "      <td>Ilgar &amp; Aysel</td>\n",
       "      <td>Manhattan</td>\n",
       "      <td>Harlem</td>\n",
       "      <td>40.81475</td>\n",
       "      <td>-73.94867</td>\n",
       "      <td>Entire home/apt</td>\n",
       "      <td>115</td>\n",
       "      <td>10</td>\n",
       "      <td>0</td>\n",
       "      <td>NaN</td>\n",
       "      <td>NaN</td>\n",
       "      <td>1</td>\n",
       "      <td>27</td>\n",
       "    </tr>\n",
       "    <tr>\n",
       "      <th>48893</th>\n",
       "      <td>43rd St. Time Square-cozy single bed</td>\n",
       "      <td>Taz</td>\n",
       "      <td>Manhattan</td>\n",
       "      <td>Hell's Kitchen</td>\n",
       "      <td>40.75751</td>\n",
       "      <td>-73.99112</td>\n",
       "      <td>Shared room</td>\n",
       "      <td>55</td>\n",
       "      <td>1</td>\n",
       "      <td>0</td>\n",
       "      <td>NaN</td>\n",
       "      <td>NaN</td>\n",
       "      <td>6</td>\n",
       "      <td>2</td>\n",
       "    </tr>\n",
       "    <tr>\n",
       "      <th>48894</th>\n",
       "      <td>Trendy duplex in the very heart of Hell's Kitchen</td>\n",
       "      <td>Christophe</td>\n",
       "      <td>Manhattan</td>\n",
       "      <td>Hell's Kitchen</td>\n",
       "      <td>40.76404</td>\n",
       "      <td>-73.98933</td>\n",
       "      <td>Private room</td>\n",
       "      <td>90</td>\n",
       "      <td>7</td>\n",
       "      <td>0</td>\n",
       "      <td>NaN</td>\n",
       "      <td>NaN</td>\n",
       "      <td>1</td>\n",
       "      <td>23</td>\n",
       "    </tr>\n",
       "  </tbody>\n",
       "</table>\n",
       "<p>48895 rows × 14 columns</p>\n",
       "</div>"
      ],
      "text/plain": [
       "                                                    name      host_name  \\\n",
       "0                     Clean & quiet apt home by the park           John   \n",
       "1                                  Skylit Midtown Castle       Jennifer   \n",
       "2                    THE VILLAGE OF HARLEM....NEW YORK !      Elisabeth   \n",
       "3                        Cozy Entire Floor of Brownstone    LisaRoxanne   \n",
       "4       Entire Apt: Spacious Studio/Loft by central park          Laura   \n",
       "...                                                  ...            ...   \n",
       "48890    Charming one bedroom - newly renovated rowhouse        Sabrina   \n",
       "48891      Affordable room in Bushwick/East Williamsburg        Marisol   \n",
       "48892            Sunny Studio at Historical Neighborhood  Ilgar & Aysel   \n",
       "48893               43rd St. Time Square-cozy single bed            Taz   \n",
       "48894  Trendy duplex in the very heart of Hell's Kitchen     Christophe   \n",
       "\n",
       "      neighbourhood_group       neighbourhood  latitude  longitude  \\\n",
       "0                Brooklyn          Kensington  40.64749  -73.97237   \n",
       "1               Manhattan             Midtown  40.75362  -73.98377   \n",
       "2               Manhattan              Harlem  40.80902  -73.94190   \n",
       "3                Brooklyn        Clinton Hill  40.68514  -73.95976   \n",
       "4               Manhattan         East Harlem  40.79851  -73.94399   \n",
       "...                   ...                 ...       ...        ...   \n",
       "48890            Brooklyn  Bedford-Stuyvesant  40.67853  -73.94995   \n",
       "48891            Brooklyn            Bushwick  40.70184  -73.93317   \n",
       "48892           Manhattan              Harlem  40.81475  -73.94867   \n",
       "48893           Manhattan      Hell's Kitchen  40.75751  -73.99112   \n",
       "48894           Manhattan      Hell's Kitchen  40.76404  -73.98933   \n",
       "\n",
       "             room_type  price  minimum_nights  number_of_reviews last_review  \\\n",
       "0         Private room    149               1                  9  2018-10-19   \n",
       "1      Entire home/apt    225               1                 45  2019-05-21   \n",
       "2         Private room    150               3                  0         NaN   \n",
       "3      Entire home/apt     89               1                270  2019-07-05   \n",
       "4      Entire home/apt     80              10                  9  2018-11-19   \n",
       "...                ...    ...             ...                ...         ...   \n",
       "48890     Private room     70               2                  0         NaN   \n",
       "48891     Private room     40               4                  0         NaN   \n",
       "48892  Entire home/apt    115              10                  0         NaN   \n",
       "48893      Shared room     55               1                  0         NaN   \n",
       "48894     Private room     90               7                  0         NaN   \n",
       "\n",
       "       reviews_per_month  calculated_host_listings_count  availability_365  \n",
       "0                   0.21                               6               365  \n",
       "1                   0.38                               2               355  \n",
       "2                    NaN                               1               365  \n",
       "3                   4.64                               1               194  \n",
       "4                   0.10                               1                 0  \n",
       "...                  ...                             ...               ...  \n",
       "48890                NaN                               2                 9  \n",
       "48891                NaN                               2                36  \n",
       "48892                NaN                               1                27  \n",
       "48893                NaN                               6                 2  \n",
       "48894                NaN                               1                23  \n",
       "\n",
       "[48895 rows x 14 columns]"
      ]
     },
     "execution_count": 6,
     "metadata": {},
     "output_type": "execute_result"
    }
   ],
   "source": [
    "data"
   ]
  },
  {
   "cell_type": "markdown",
   "id": "6347ded7",
   "metadata": {},
   "source": [
    "### Filling the Null Values"
   ]
  },
  {
   "cell_type": "code",
   "execution_count": 7,
   "id": "162fb56c",
   "metadata": {},
   "outputs": [
    {
     "data": {
      "text/plain": [
       "name                                 16\n",
       "host_name                            21\n",
       "neighbourhood_group                   0\n",
       "neighbourhood                         0\n",
       "latitude                              0\n",
       "longitude                             0\n",
       "room_type                             0\n",
       "price                                 0\n",
       "minimum_nights                        0\n",
       "number_of_reviews                     0\n",
       "last_review                       10052\n",
       "reviews_per_month                 10052\n",
       "calculated_host_listings_count        0\n",
       "availability_365                      0\n",
       "dtype: int64"
      ]
     },
     "execution_count": 7,
     "metadata": {},
     "output_type": "execute_result"
    }
   ],
   "source": [
    "data.isnull().sum()"
   ]
  },
  {
   "cell_type": "code",
   "execution_count": 8,
   "id": "b08c5391",
   "metadata": {},
   "outputs": [
    {
     "data": {
      "text/plain": [
       "(48895, 14)"
      ]
     },
     "execution_count": 8,
     "metadata": {},
     "output_type": "execute_result"
    }
   ],
   "source": [
    "data.shape"
   ]
  },
  {
   "cell_type": "code",
   "execution_count": 9,
   "id": "60cbb8bb",
   "metadata": {},
   "outputs": [
    {
     "name": "stdout",
     "output_type": "stream",
     "text": [
      "<class 'pandas.core.frame.DataFrame'>\n",
      "RangeIndex: 48895 entries, 0 to 48894\n",
      "Data columns (total 14 columns):\n",
      " #   Column                          Non-Null Count  Dtype  \n",
      "---  ------                          --------------  -----  \n",
      " 0   name                            48879 non-null  object \n",
      " 1   host_name                       48874 non-null  object \n",
      " 2   neighbourhood_group             48895 non-null  object \n",
      " 3   neighbourhood                   48895 non-null  object \n",
      " 4   latitude                        48895 non-null  float64\n",
      " 5   longitude                       48895 non-null  float64\n",
      " 6   room_type                       48895 non-null  object \n",
      " 7   price                           48895 non-null  int64  \n",
      " 8   minimum_nights                  48895 non-null  int64  \n",
      " 9   number_of_reviews               48895 non-null  int64  \n",
      " 10  last_review                     38843 non-null  object \n",
      " 11  reviews_per_month               38843 non-null  float64\n",
      " 12  calculated_host_listings_count  48895 non-null  int64  \n",
      " 13  availability_365                48895 non-null  int64  \n",
      "dtypes: float64(3), int64(5), object(6)\n",
      "memory usage: 5.2+ MB\n"
     ]
    }
   ],
   "source": [
    "data.info()"
   ]
  },
  {
   "cell_type": "code",
   "execution_count": 10,
   "id": "a82b8c6d",
   "metadata": {},
   "outputs": [
    {
     "data": {
      "text/plain": [
       "0    Hillside Hotel\n",
       "dtype: object"
      ]
     },
     "execution_count": 10,
     "metadata": {},
     "output_type": "execute_result"
    }
   ],
   "source": [
    "data.name.mode()"
   ]
  },
  {
   "cell_type": "code",
   "execution_count": 11,
   "id": "5878e1dd",
   "metadata": {},
   "outputs": [],
   "source": [
    "data['name'] = data['name'].fillna(data['name'].mode()[0])\n",
    "data['host_name'] = data['host_name'].fillna(data['name'].mode()[0])"
   ]
  },
  {
   "cell_type": "code",
   "execution_count": 12,
   "id": "b52f603e",
   "metadata": {},
   "outputs": [
    {
     "data": {
      "text/plain": [
       "name                                  0\n",
       "host_name                             0\n",
       "neighbourhood_group                   0\n",
       "neighbourhood                         0\n",
       "latitude                              0\n",
       "longitude                             0\n",
       "room_type                             0\n",
       "price                                 0\n",
       "minimum_nights                        0\n",
       "number_of_reviews                     0\n",
       "last_review                       10052\n",
       "reviews_per_month                 10052\n",
       "calculated_host_listings_count        0\n",
       "availability_365                      0\n",
       "dtype: int64"
      ]
     },
     "execution_count": 12,
     "metadata": {},
     "output_type": "execute_result"
    }
   ],
   "source": [
    "data.isnull().sum()"
   ]
  },
  {
   "cell_type": "code",
   "execution_count": 13,
   "id": "52ad0576",
   "metadata": {},
   "outputs": [],
   "source": [
    "data['reviews_per_month'] = data['reviews_per_month'].fillna(data['reviews_per_month'].mean())\n",
    "data['last_review'] = data['last_review'].fillna(data['last_review'].mode()[0])"
   ]
  },
  {
   "cell_type": "code",
   "execution_count": 14,
   "id": "a8d5609b",
   "metadata": {},
   "outputs": [
    {
     "data": {
      "text/plain": [
       "name                              0\n",
       "host_name                         0\n",
       "neighbourhood_group               0\n",
       "neighbourhood                     0\n",
       "latitude                          0\n",
       "longitude                         0\n",
       "room_type                         0\n",
       "price                             0\n",
       "minimum_nights                    0\n",
       "number_of_reviews                 0\n",
       "last_review                       0\n",
       "reviews_per_month                 0\n",
       "calculated_host_listings_count    0\n",
       "availability_365                  0\n",
       "dtype: int64"
      ]
     },
     "execution_count": 14,
     "metadata": {},
     "output_type": "execute_result"
    }
   ],
   "source": [
    "data.isnull().sum()"
   ]
  },
  {
   "cell_type": "markdown",
   "id": "9e51c482",
   "metadata": {},
   "source": [
    "### Removing 0 values in Price"
   ]
  },
  {
   "cell_type": "code",
   "execution_count": 15,
   "id": "0a1169e1",
   "metadata": {},
   "outputs": [
    {
     "data": {
      "text/html": [
       "<div>\n",
       "<style scoped>\n",
       "    .dataframe tbody tr th:only-of-type {\n",
       "        vertical-align: middle;\n",
       "    }\n",
       "\n",
       "    .dataframe tbody tr th {\n",
       "        vertical-align: top;\n",
       "    }\n",
       "\n",
       "    .dataframe thead th {\n",
       "        text-align: right;\n",
       "    }\n",
       "</style>\n",
       "<table border=\"1\" class=\"dataframe\">\n",
       "  <thead>\n",
       "    <tr style=\"text-align: right;\">\n",
       "      <th></th>\n",
       "      <th>name</th>\n",
       "      <th>host_name</th>\n",
       "      <th>neighbourhood_group</th>\n",
       "      <th>neighbourhood</th>\n",
       "      <th>latitude</th>\n",
       "      <th>longitude</th>\n",
       "      <th>room_type</th>\n",
       "      <th>price</th>\n",
       "      <th>minimum_nights</th>\n",
       "      <th>number_of_reviews</th>\n",
       "      <th>last_review</th>\n",
       "      <th>reviews_per_month</th>\n",
       "      <th>calculated_host_listings_count</th>\n",
       "      <th>availability_365</th>\n",
       "    </tr>\n",
       "  </thead>\n",
       "  <tbody>\n",
       "    <tr>\n",
       "      <th>23161</th>\n",
       "      <td>Huge Brooklyn Brownstone Living, Close to it all.</td>\n",
       "      <td>Kimberly</td>\n",
       "      <td>Brooklyn</td>\n",
       "      <td>Bedford-Stuyvesant</td>\n",
       "      <td>40.69023</td>\n",
       "      <td>-73.95428</td>\n",
       "      <td>Private room</td>\n",
       "      <td>0</td>\n",
       "      <td>4</td>\n",
       "      <td>1</td>\n",
       "      <td>2018-01-06</td>\n",
       "      <td>0.050000</td>\n",
       "      <td>4</td>\n",
       "      <td>28</td>\n",
       "    </tr>\n",
       "    <tr>\n",
       "      <th>25433</th>\n",
       "      <td>★Hostel Style Room | Ideal Traveling Buddies★</td>\n",
       "      <td>Anisha</td>\n",
       "      <td>Bronx</td>\n",
       "      <td>East Morrisania</td>\n",
       "      <td>40.83296</td>\n",
       "      <td>-73.88668</td>\n",
       "      <td>Private room</td>\n",
       "      <td>0</td>\n",
       "      <td>2</td>\n",
       "      <td>55</td>\n",
       "      <td>2019-06-24</td>\n",
       "      <td>2.560000</td>\n",
       "      <td>4</td>\n",
       "      <td>127</td>\n",
       "    </tr>\n",
       "    <tr>\n",
       "      <th>25634</th>\n",
       "      <td>MARTIAL LOFT 3: REDEMPTION (upstairs, 2nd room)</td>\n",
       "      <td>Martial Loft</td>\n",
       "      <td>Brooklyn</td>\n",
       "      <td>Bushwick</td>\n",
       "      <td>40.69467</td>\n",
       "      <td>-73.92433</td>\n",
       "      <td>Private room</td>\n",
       "      <td>0</td>\n",
       "      <td>2</td>\n",
       "      <td>16</td>\n",
       "      <td>2019-05-18</td>\n",
       "      <td>0.710000</td>\n",
       "      <td>5</td>\n",
       "      <td>0</td>\n",
       "    </tr>\n",
       "    <tr>\n",
       "      <th>25753</th>\n",
       "      <td>Sunny, Quiet Room in Greenpoint</td>\n",
       "      <td>Lauren</td>\n",
       "      <td>Brooklyn</td>\n",
       "      <td>Greenpoint</td>\n",
       "      <td>40.72462</td>\n",
       "      <td>-73.94072</td>\n",
       "      <td>Private room</td>\n",
       "      <td>0</td>\n",
       "      <td>2</td>\n",
       "      <td>12</td>\n",
       "      <td>2017-10-27</td>\n",
       "      <td>0.530000</td>\n",
       "      <td>2</td>\n",
       "      <td>0</td>\n",
       "    </tr>\n",
       "    <tr>\n",
       "      <th>25778</th>\n",
       "      <td>Modern apartment in the heart of Williamsburg</td>\n",
       "      <td>Aymeric</td>\n",
       "      <td>Brooklyn</td>\n",
       "      <td>Williamsburg</td>\n",
       "      <td>40.70838</td>\n",
       "      <td>-73.94645</td>\n",
       "      <td>Entire home/apt</td>\n",
       "      <td>0</td>\n",
       "      <td>5</td>\n",
       "      <td>3</td>\n",
       "      <td>2018-01-02</td>\n",
       "      <td>0.150000</td>\n",
       "      <td>1</td>\n",
       "      <td>73</td>\n",
       "    </tr>\n",
       "    <tr>\n",
       "      <th>25794</th>\n",
       "      <td>Spacious comfortable master bedroom with nice ...</td>\n",
       "      <td>Adeyemi</td>\n",
       "      <td>Brooklyn</td>\n",
       "      <td>Bedford-Stuyvesant</td>\n",
       "      <td>40.68173</td>\n",
       "      <td>-73.91342</td>\n",
       "      <td>Private room</td>\n",
       "      <td>0</td>\n",
       "      <td>1</td>\n",
       "      <td>93</td>\n",
       "      <td>2019-06-15</td>\n",
       "      <td>4.280000</td>\n",
       "      <td>6</td>\n",
       "      <td>176</td>\n",
       "    </tr>\n",
       "    <tr>\n",
       "      <th>25795</th>\n",
       "      <td>Contemporary bedroom in brownstone with nice view</td>\n",
       "      <td>Adeyemi</td>\n",
       "      <td>Brooklyn</td>\n",
       "      <td>Bedford-Stuyvesant</td>\n",
       "      <td>40.68279</td>\n",
       "      <td>-73.91170</td>\n",
       "      <td>Private room</td>\n",
       "      <td>0</td>\n",
       "      <td>1</td>\n",
       "      <td>95</td>\n",
       "      <td>2019-06-21</td>\n",
       "      <td>4.370000</td>\n",
       "      <td>6</td>\n",
       "      <td>232</td>\n",
       "    </tr>\n",
       "    <tr>\n",
       "      <th>25796</th>\n",
       "      <td>Cozy yet spacious private brownstone bedroom</td>\n",
       "      <td>Adeyemi</td>\n",
       "      <td>Brooklyn</td>\n",
       "      <td>Bedford-Stuyvesant</td>\n",
       "      <td>40.68258</td>\n",
       "      <td>-73.91284</td>\n",
       "      <td>Private room</td>\n",
       "      <td>0</td>\n",
       "      <td>1</td>\n",
       "      <td>95</td>\n",
       "      <td>2019-06-23</td>\n",
       "      <td>4.350000</td>\n",
       "      <td>6</td>\n",
       "      <td>222</td>\n",
       "    </tr>\n",
       "    <tr>\n",
       "      <th>26259</th>\n",
       "      <td>the best you can find</td>\n",
       "      <td>Qiuchi</td>\n",
       "      <td>Manhattan</td>\n",
       "      <td>Murray Hill</td>\n",
       "      <td>40.75091</td>\n",
       "      <td>-73.97597</td>\n",
       "      <td>Entire home/apt</td>\n",
       "      <td>0</td>\n",
       "      <td>3</td>\n",
       "      <td>0</td>\n",
       "      <td>2019-06-23</td>\n",
       "      <td>1.373221</td>\n",
       "      <td>1</td>\n",
       "      <td>0</td>\n",
       "    </tr>\n",
       "    <tr>\n",
       "      <th>26841</th>\n",
       "      <td>Coliving in Brooklyn! Modern design / Shared room</td>\n",
       "      <td>Sergii</td>\n",
       "      <td>Brooklyn</td>\n",
       "      <td>Bushwick</td>\n",
       "      <td>40.69211</td>\n",
       "      <td>-73.90670</td>\n",
       "      <td>Shared room</td>\n",
       "      <td>0</td>\n",
       "      <td>30</td>\n",
       "      <td>2</td>\n",
       "      <td>2019-06-22</td>\n",
       "      <td>0.110000</td>\n",
       "      <td>6</td>\n",
       "      <td>333</td>\n",
       "    </tr>\n",
       "    <tr>\n",
       "      <th>26866</th>\n",
       "      <td>Best Coliving space ever! Shared room.</td>\n",
       "      <td>Sergii</td>\n",
       "      <td>Brooklyn</td>\n",
       "      <td>Bushwick</td>\n",
       "      <td>40.69166</td>\n",
       "      <td>-73.90928</td>\n",
       "      <td>Shared room</td>\n",
       "      <td>0</td>\n",
       "      <td>30</td>\n",
       "      <td>5</td>\n",
       "      <td>2019-05-24</td>\n",
       "      <td>0.260000</td>\n",
       "      <td>6</td>\n",
       "      <td>139</td>\n",
       "    </tr>\n",
       "  </tbody>\n",
       "</table>\n",
       "</div>"
      ],
      "text/plain": [
       "                                                    name     host_name  \\\n",
       "23161  Huge Brooklyn Brownstone Living, Close to it all.      Kimberly   \n",
       "25433      ★Hostel Style Room | Ideal Traveling Buddies★        Anisha   \n",
       "25634    MARTIAL LOFT 3: REDEMPTION (upstairs, 2nd room)  Martial Loft   \n",
       "25753                    Sunny, Quiet Room in Greenpoint        Lauren   \n",
       "25778      Modern apartment in the heart of Williamsburg       Aymeric   \n",
       "25794  Spacious comfortable master bedroom with nice ...       Adeyemi   \n",
       "25795  Contemporary bedroom in brownstone with nice view       Adeyemi   \n",
       "25796       Cozy yet spacious private brownstone bedroom       Adeyemi   \n",
       "26259                              the best you can find        Qiuchi   \n",
       "26841  Coliving in Brooklyn! Modern design / Shared room        Sergii   \n",
       "26866             Best Coliving space ever! Shared room.        Sergii   \n",
       "\n",
       "      neighbourhood_group       neighbourhood  latitude  longitude  \\\n",
       "23161            Brooklyn  Bedford-Stuyvesant  40.69023  -73.95428   \n",
       "25433               Bronx     East Morrisania  40.83296  -73.88668   \n",
       "25634            Brooklyn            Bushwick  40.69467  -73.92433   \n",
       "25753            Brooklyn          Greenpoint  40.72462  -73.94072   \n",
       "25778            Brooklyn        Williamsburg  40.70838  -73.94645   \n",
       "25794            Brooklyn  Bedford-Stuyvesant  40.68173  -73.91342   \n",
       "25795            Brooklyn  Bedford-Stuyvesant  40.68279  -73.91170   \n",
       "25796            Brooklyn  Bedford-Stuyvesant  40.68258  -73.91284   \n",
       "26259           Manhattan         Murray Hill  40.75091  -73.97597   \n",
       "26841            Brooklyn            Bushwick  40.69211  -73.90670   \n",
       "26866            Brooklyn            Bushwick  40.69166  -73.90928   \n",
       "\n",
       "             room_type  price  minimum_nights  number_of_reviews last_review  \\\n",
       "23161     Private room      0               4                  1  2018-01-06   \n",
       "25433     Private room      0               2                 55  2019-06-24   \n",
       "25634     Private room      0               2                 16  2019-05-18   \n",
       "25753     Private room      0               2                 12  2017-10-27   \n",
       "25778  Entire home/apt      0               5                  3  2018-01-02   \n",
       "25794     Private room      0               1                 93  2019-06-15   \n",
       "25795     Private room      0               1                 95  2019-06-21   \n",
       "25796     Private room      0               1                 95  2019-06-23   \n",
       "26259  Entire home/apt      0               3                  0  2019-06-23   \n",
       "26841      Shared room      0              30                  2  2019-06-22   \n",
       "26866      Shared room      0              30                  5  2019-05-24   \n",
       "\n",
       "       reviews_per_month  calculated_host_listings_count  availability_365  \n",
       "23161           0.050000                               4                28  \n",
       "25433           2.560000                               4               127  \n",
       "25634           0.710000                               5                 0  \n",
       "25753           0.530000                               2                 0  \n",
       "25778           0.150000                               1                73  \n",
       "25794           4.280000                               6               176  \n",
       "25795           4.370000                               6               232  \n",
       "25796           4.350000                               6               222  \n",
       "26259           1.373221                               1                 0  \n",
       "26841           0.110000                               6               333  \n",
       "26866           0.260000                               6               139  "
      ]
     },
     "execution_count": 15,
     "metadata": {},
     "output_type": "execute_result"
    }
   ],
   "source": [
    "data[data['price']==0]"
   ]
  },
  {
   "cell_type": "code",
   "execution_count": 16,
   "id": "85e32296",
   "metadata": {},
   "outputs": [],
   "source": [
    "data.drop(data[data['price']==0].index, inplace=True)"
   ]
  },
  {
   "cell_type": "code",
   "execution_count": 17,
   "id": "76a3a2ef",
   "metadata": {},
   "outputs": [
    {
     "data": {
      "text/html": [
       "<div>\n",
       "<style scoped>\n",
       "    .dataframe tbody tr th:only-of-type {\n",
       "        vertical-align: middle;\n",
       "    }\n",
       "\n",
       "    .dataframe tbody tr th {\n",
       "        vertical-align: top;\n",
       "    }\n",
       "\n",
       "    .dataframe thead th {\n",
       "        text-align: right;\n",
       "    }\n",
       "</style>\n",
       "<table border=\"1\" class=\"dataframe\">\n",
       "  <thead>\n",
       "    <tr style=\"text-align: right;\">\n",
       "      <th></th>\n",
       "      <th>name</th>\n",
       "      <th>host_name</th>\n",
       "      <th>neighbourhood_group</th>\n",
       "      <th>neighbourhood</th>\n",
       "      <th>latitude</th>\n",
       "      <th>longitude</th>\n",
       "      <th>room_type</th>\n",
       "      <th>price</th>\n",
       "      <th>minimum_nights</th>\n",
       "      <th>number_of_reviews</th>\n",
       "      <th>last_review</th>\n",
       "      <th>reviews_per_month</th>\n",
       "      <th>calculated_host_listings_count</th>\n",
       "      <th>availability_365</th>\n",
       "    </tr>\n",
       "  </thead>\n",
       "  <tbody>\n",
       "  </tbody>\n",
       "</table>\n",
       "</div>"
      ],
      "text/plain": [
       "Empty DataFrame\n",
       "Columns: [name, host_name, neighbourhood_group, neighbourhood, latitude, longitude, room_type, price, minimum_nights, number_of_reviews, last_review, reviews_per_month, calculated_host_listings_count, availability_365]\n",
       "Index: []"
      ]
     },
     "execution_count": 17,
     "metadata": {},
     "output_type": "execute_result"
    }
   ],
   "source": [
    "data[data['price']==0]"
   ]
  },
  {
   "cell_type": "markdown",
   "id": "c424bbf5",
   "metadata": {},
   "source": [
    "#### Here i removed zeroes in 'price' because a room cannot have a price of Zero Rupees."
   ]
  },
  {
   "cell_type": "markdown",
   "id": "0126dc82",
   "metadata": {},
   "source": [
    "### Handling Outliers"
   ]
  },
  {
   "cell_type": "code",
   "execution_count": 18,
   "id": "b7f27cf0",
   "metadata": {},
   "outputs": [],
   "source": [
    "price_out = data['price']"
   ]
  },
  {
   "cell_type": "code",
   "execution_count": 19,
   "id": "76d51418",
   "metadata": {},
   "outputs": [
    {
     "data": {
      "image/png": "[encoded data removed]",
      "text/plain": [
       "<Figure size 432x288 with 1 Axes>"
      ]
     },
     "metadata": {
      "needs_background": "light"
     },
     "output_type": "display_data"
    },
    {
     "data": {
      "text/plain": [
       "<Figure size 720x504 with 0 Axes>"
      ]
     },
     "metadata": {},
     "output_type": "display_data"
    }
   ],
   "source": [
    "plt.boxplot(price_out)\n",
    "fig = plt.figure(figsize =(10, 7))\n",
    "plt.show()"
   ]
  },
  {
   "cell_type": "code",
   "execution_count": 20,
   "id": "58d963b5",
   "metadata": {},
   "outputs": [
    {
     "data": {
      "text/plain": [
       "count    48884.000000\n",
       "mean       152.755053\n",
       "std        240.170260\n",
       "min         10.000000\n",
       "25%         69.000000\n",
       "50%        106.000000\n",
       "75%        175.000000\n",
       "max      10000.000000\n",
       "Name: price, dtype: float64"
      ]
     },
     "execution_count": 20,
     "metadata": {},
     "output_type": "execute_result"
    }
   ],
   "source": [
    "data.price.describe()"
   ]
  },
  {
   "cell_type": "code",
   "execution_count": 21,
   "id": "35104d75",
   "metadata": {},
   "outputs": [
    {
     "data": {
      "text/plain": [
       "(69.0, 175.0)"
      ]
     },
     "execution_count": 21,
     "metadata": {},
     "output_type": "execute_result"
    }
   ],
   "source": [
    "q1 = data.price.quantile(0.25)\n",
    "q3 = data.price.quantile(0.75)\n",
    "q1 , q3"
   ]
  },
  {
   "cell_type": "code",
   "execution_count": 22,
   "id": "a707b16c",
   "metadata": {},
   "outputs": [
    {
     "data": {
      "text/plain": [
       "106.0"
      ]
     },
     "execution_count": 22,
     "metadata": {},
     "output_type": "execute_result"
    }
   ],
   "source": [
    "IQR = q3 - q1\n",
    "IQR"
   ]
  },
  {
   "cell_type": "code",
   "execution_count": 23,
   "id": "a9aebfa4",
   "metadata": {},
   "outputs": [
    {
     "data": {
      "text/plain": [
       "(-90.0, 334.0)"
      ]
     },
     "execution_count": 23,
     "metadata": {},
     "output_type": "execute_result"
    }
   ],
   "source": [
    "lower_limit = q1 - 1.5*IQR\n",
    "upper_limit = q3 + 1.5*IQR\n",
    "lower_limit , upper_limit"
   ]
  },
  {
   "cell_type": "code",
   "execution_count": 24,
   "id": "27559276",
   "metadata": {
    "scrolled": true
   },
   "outputs": [
    {
     "data": {
      "text/html": [
       "<div>\n",
       "<style scoped>\n",
       "    .dataframe tbody tr th:only-of-type {\n",
       "        vertical-align: middle;\n",
       "    }\n",
       "\n",
       "    .dataframe tbody tr th {\n",
       "        vertical-align: top;\n",
       "    }\n",
       "\n",
       "    .dataframe thead th {\n",
       "        text-align: right;\n",
       "    }\n",
       "</style>\n",
       "<table border=\"1\" class=\"dataframe\">\n",
       "  <thead>\n",
       "    <tr style=\"text-align: right;\">\n",
       "      <th></th>\n",
       "      <th>name</th>\n",
       "      <th>host_name</th>\n",
       "      <th>neighbourhood_group</th>\n",
       "      <th>neighbourhood</th>\n",
       "      <th>latitude</th>\n",
       "      <th>longitude</th>\n",
       "      <th>room_type</th>\n",
       "      <th>price</th>\n",
       "      <th>minimum_nights</th>\n",
       "      <th>number_of_reviews</th>\n",
       "      <th>last_review</th>\n",
       "      <th>reviews_per_month</th>\n",
       "      <th>calculated_host_listings_count</th>\n",
       "      <th>availability_365</th>\n",
       "    </tr>\n",
       "  </thead>\n",
       "  <tbody>\n",
       "    <tr>\n",
       "      <th>61</th>\n",
       "      <td>Sunny &amp; Spacious Chelsea Apartment</td>\n",
       "      <td>Petra</td>\n",
       "      <td>Manhattan</td>\n",
       "      <td>Chelsea</td>\n",
       "      <td>40.74623</td>\n",
       "      <td>-73.99530</td>\n",
       "      <td>Entire home/apt</td>\n",
       "      <td>375</td>\n",
       "      <td>180</td>\n",
       "      <td>5</td>\n",
       "      <td>2018-11-03</td>\n",
       "      <td>0.120000</td>\n",
       "      <td>1</td>\n",
       "      <td>180</td>\n",
       "    </tr>\n",
       "    <tr>\n",
       "      <th>85</th>\n",
       "      <td>perfect for a family or small group</td>\n",
       "      <td>Maggie</td>\n",
       "      <td>Brooklyn</td>\n",
       "      <td>Brooklyn Heights</td>\n",
       "      <td>40.69723</td>\n",
       "      <td>-73.99268</td>\n",
       "      <td>Entire home/apt</td>\n",
       "      <td>800</td>\n",
       "      <td>1</td>\n",
       "      <td>25</td>\n",
       "      <td>2016-08-04</td>\n",
       "      <td>0.240000</td>\n",
       "      <td>1</td>\n",
       "      <td>7</td>\n",
       "    </tr>\n",
       "    <tr>\n",
       "      <th>103</th>\n",
       "      <td>2000 SF 3br 2bath West Village private  townhouse</td>\n",
       "      <td>Ann</td>\n",
       "      <td>Manhattan</td>\n",
       "      <td>West Village</td>\n",
       "      <td>40.73096</td>\n",
       "      <td>-74.00319</td>\n",
       "      <td>Entire home/apt</td>\n",
       "      <td>500</td>\n",
       "      <td>4</td>\n",
       "      <td>46</td>\n",
       "      <td>2019-05-18</td>\n",
       "      <td>0.550000</td>\n",
       "      <td>2</td>\n",
       "      <td>243</td>\n",
       "    </tr>\n",
       "    <tr>\n",
       "      <th>114</th>\n",
       "      <td>2 BR / 2 Bath Duplex Apt with patio! East Village</td>\n",
       "      <td>Bruce</td>\n",
       "      <td>Manhattan</td>\n",
       "      <td>East Village</td>\n",
       "      <td>40.72540</td>\n",
       "      <td>-73.98157</td>\n",
       "      <td>Entire home/apt</td>\n",
       "      <td>350</td>\n",
       "      <td>2</td>\n",
       "      <td>7</td>\n",
       "      <td>2017-08-09</td>\n",
       "      <td>0.060000</td>\n",
       "      <td>4</td>\n",
       "      <td>298</td>\n",
       "    </tr>\n",
       "    <tr>\n",
       "      <th>121</th>\n",
       "      <td>3 Story Town House in Park Slope</td>\n",
       "      <td>Vero</td>\n",
       "      <td>Brooklyn</td>\n",
       "      <td>South Slope</td>\n",
       "      <td>40.66499</td>\n",
       "      <td>-73.97925</td>\n",
       "      <td>Entire home/apt</td>\n",
       "      <td>400</td>\n",
       "      <td>2</td>\n",
       "      <td>16</td>\n",
       "      <td>2018-12-30</td>\n",
       "      <td>0.240000</td>\n",
       "      <td>2</td>\n",
       "      <td>216</td>\n",
       "    </tr>\n",
       "    <tr>\n",
       "      <th>...</th>\n",
       "      <td>...</td>\n",
       "      <td>...</td>\n",
       "      <td>...</td>\n",
       "      <td>...</td>\n",
       "      <td>...</td>\n",
       "      <td>...</td>\n",
       "      <td>...</td>\n",
       "      <td>...</td>\n",
       "      <td>...</td>\n",
       "      <td>...</td>\n",
       "      <td>...</td>\n",
       "      <td>...</td>\n",
       "      <td>...</td>\n",
       "      <td>...</td>\n",
       "    </tr>\n",
       "    <tr>\n",
       "      <th>48758</th>\n",
       "      <td>Rustic Garden House Apt, 2 stops from Manhattan</td>\n",
       "      <td>LaGabrell</td>\n",
       "      <td>Queens</td>\n",
       "      <td>Long Island City</td>\n",
       "      <td>40.75508</td>\n",
       "      <td>-73.93258</td>\n",
       "      <td>Entire home/apt</td>\n",
       "      <td>350</td>\n",
       "      <td>2</td>\n",
       "      <td>0</td>\n",
       "      <td>2019-06-23</td>\n",
       "      <td>1.373221</td>\n",
       "      <td>1</td>\n",
       "      <td>364</td>\n",
       "    </tr>\n",
       "    <tr>\n",
       "      <th>48833</th>\n",
       "      <td>Brand New 3-Bed Apt in the Best Location of FiDi</td>\n",
       "      <td>Yue</td>\n",
       "      <td>Manhattan</td>\n",
       "      <td>Financial District</td>\n",
       "      <td>40.70605</td>\n",
       "      <td>-74.01042</td>\n",
       "      <td>Entire home/apt</td>\n",
       "      <td>475</td>\n",
       "      <td>2</td>\n",
       "      <td>0</td>\n",
       "      <td>2019-06-23</td>\n",
       "      <td>1.373221</td>\n",
       "      <td>1</td>\n",
       "      <td>64</td>\n",
       "    </tr>\n",
       "    <tr>\n",
       "      <th>48839</th>\n",
       "      <td>Massage Spa. Stay overnight. Authors Artist dr...</td>\n",
       "      <td>Richard</td>\n",
       "      <td>Brooklyn</td>\n",
       "      <td>Sheepshead Bay</td>\n",
       "      <td>40.59866</td>\n",
       "      <td>-73.95661</td>\n",
       "      <td>Private room</td>\n",
       "      <td>800</td>\n",
       "      <td>1</td>\n",
       "      <td>0</td>\n",
       "      <td>2019-06-23</td>\n",
       "      <td>1.373221</td>\n",
       "      <td>1</td>\n",
       "      <td>23</td>\n",
       "    </tr>\n",
       "    <tr>\n",
       "      <th>48842</th>\n",
       "      <td>LUXURY MANHATTAN PENTHOUSE+HUDSON RIVER+EMPIRE...</td>\n",
       "      <td>LuxuryApartmentsByAmber</td>\n",
       "      <td>Manhattan</td>\n",
       "      <td>Chelsea</td>\n",
       "      <td>40.75204</td>\n",
       "      <td>-74.00292</td>\n",
       "      <td>Entire home/apt</td>\n",
       "      <td>350</td>\n",
       "      <td>1</td>\n",
       "      <td>0</td>\n",
       "      <td>2019-06-23</td>\n",
       "      <td>1.373221</td>\n",
       "      <td>1</td>\n",
       "      <td>9</td>\n",
       "    </tr>\n",
       "    <tr>\n",
       "      <th>48856</th>\n",
       "      <td>Large 3 bed, 2 bath , garden , bbq , all you need</td>\n",
       "      <td>Thomas</td>\n",
       "      <td>Brooklyn</td>\n",
       "      <td>Bedford-Stuyvesant</td>\n",
       "      <td>40.68886</td>\n",
       "      <td>-73.92879</td>\n",
       "      <td>Entire home/apt</td>\n",
       "      <td>345</td>\n",
       "      <td>4</td>\n",
       "      <td>0</td>\n",
       "      <td>2019-06-23</td>\n",
       "      <td>1.373221</td>\n",
       "      <td>3</td>\n",
       "      <td>354</td>\n",
       "    </tr>\n",
       "  </tbody>\n",
       "</table>\n",
       "<p>2972 rows × 14 columns</p>\n",
       "</div>"
      ],
      "text/plain": [
       "                                                    name  \\\n",
       "61                    Sunny & Spacious Chelsea Apartment   \n",
       "85                   perfect for a family or small group   \n",
       "103    2000 SF 3br 2bath West Village private  townhouse   \n",
       "114    2 BR / 2 Bath Duplex Apt with patio! East Village   \n",
       "121                     3 Story Town House in Park Slope   \n",
       "...                                                  ...   \n",
       "48758    Rustic Garden House Apt, 2 stops from Manhattan   \n",
       "48833   Brand New 3-Bed Apt in the Best Location of FiDi   \n",
       "48839  Massage Spa. Stay overnight. Authors Artist dr...   \n",
       "48842  LUXURY MANHATTAN PENTHOUSE+HUDSON RIVER+EMPIRE...   \n",
       "48856  Large 3 bed, 2 bath , garden , bbq , all you need   \n",
       "\n",
       "                     host_name neighbourhood_group       neighbourhood  \\\n",
       "61                       Petra           Manhattan             Chelsea   \n",
       "85                      Maggie            Brooklyn    Brooklyn Heights   \n",
       "103                        Ann           Manhattan        West Village   \n",
       "114                      Bruce           Manhattan        East Village   \n",
       "121                       Vero            Brooklyn         South Slope   \n",
       "...                        ...                 ...                 ...   \n",
       "48758                LaGabrell              Queens    Long Island City   \n",
       "48833                      Yue           Manhattan  Financial District   \n",
       "48839                  Richard            Brooklyn      Sheepshead Bay   \n",
       "48842  LuxuryApartmentsByAmber           Manhattan             Chelsea   \n",
       "48856                   Thomas            Brooklyn  Bedford-Stuyvesant   \n",
       "\n",
       "       latitude  longitude        room_type  price  minimum_nights  \\\n",
       "61     40.74623  -73.99530  Entire home/apt    375             180   \n",
       "85     40.69723  -73.99268  Entire home/apt    800               1   \n",
       "103    40.73096  -74.00319  Entire home/apt    500               4   \n",
       "114    40.72540  -73.98157  Entire home/apt    350               2   \n",
       "121    40.66499  -73.97925  Entire home/apt    400               2   \n",
       "...         ...        ...              ...    ...             ...   \n",
       "48758  40.75508  -73.93258  Entire home/apt    350               2   \n",
       "48833  40.70605  -74.01042  Entire home/apt    475               2   \n",
       "48839  40.59866  -73.95661     Private room    800               1   \n",
       "48842  40.75204  -74.00292  Entire home/apt    350               1   \n",
       "48856  40.68886  -73.92879  Entire home/apt    345               4   \n",
       "\n",
       "       number_of_reviews last_review  reviews_per_month  \\\n",
       "61                     5  2018-11-03           0.120000   \n",
       "85                    25  2016-08-04           0.240000   \n",
       "103                   46  2019-05-18           0.550000   \n",
       "114                    7  2017-08-09           0.060000   \n",
       "121                   16  2018-12-30           0.240000   \n",
       "...                  ...         ...                ...   \n",
       "48758                  0  2019-06-23           1.373221   \n",
       "48833                  0  2019-06-23           1.373221   \n",
       "48839                  0  2019-06-23           1.373221   \n",
       "48842                  0  2019-06-23           1.373221   \n",
       "48856                  0  2019-06-23           1.373221   \n",
       "\n",
       "       calculated_host_listings_count  availability_365  \n",
       "61                                  1               180  \n",
       "85                                  1                 7  \n",
       "103                                 2               243  \n",
       "114                                 4               298  \n",
       "121                                 2               216  \n",
       "...                               ...               ...  \n",
       "48758                               1               364  \n",
       "48833                               1                64  \n",
       "48839                               1                23  \n",
       "48842                               1                 9  \n",
       "48856                               3               354  \n",
       "\n",
       "[2972 rows x 14 columns]"
      ]
     },
     "execution_count": 24,
     "metadata": {},
     "output_type": "execute_result"
    }
   ],
   "source": [
    "data[(data.price<lower_limit)|(data.price>upper_limit)]"
   ]
  },
  {
   "cell_type": "code",
   "execution_count": 25,
   "id": "151e74e6",
   "metadata": {},
   "outputs": [],
   "source": [
    "data.drop(data[(data.price<lower_limit)|(data.price>upper_limit)].index, inplace=True)"
   ]
  },
  {
   "cell_type": "code",
   "execution_count": 26,
   "id": "df186452",
   "metadata": {},
   "outputs": [
    {
     "data": {
      "text/html": [
       "<div>\n",
       "<style scoped>\n",
       "    .dataframe tbody tr th:only-of-type {\n",
       "        vertical-align: middle;\n",
       "    }\n",
       "\n",
       "    .dataframe tbody tr th {\n",
       "        vertical-align: top;\n",
       "    }\n",
       "\n",
       "    .dataframe thead th {\n",
       "        text-align: right;\n",
       "    }\n",
       "</style>\n",
       "<table border=\"1\" class=\"dataframe\">\n",
       "  <thead>\n",
       "    <tr style=\"text-align: right;\">\n",
       "      <th></th>\n",
       "      <th>name</th>\n",
       "      <th>host_name</th>\n",
       "      <th>neighbourhood_group</th>\n",
       "      <th>neighbourhood</th>\n",
       "      <th>latitude</th>\n",
       "      <th>longitude</th>\n",
       "      <th>room_type</th>\n",
       "      <th>price</th>\n",
       "      <th>minimum_nights</th>\n",
       "      <th>number_of_reviews</th>\n",
       "      <th>last_review</th>\n",
       "      <th>reviews_per_month</th>\n",
       "      <th>calculated_host_listings_count</th>\n",
       "      <th>availability_365</th>\n",
       "    </tr>\n",
       "  </thead>\n",
       "  <tbody>\n",
       "  </tbody>\n",
       "</table>\n",
       "</div>"
      ],
      "text/plain": [
       "Empty DataFrame\n",
       "Columns: [name, host_name, neighbourhood_group, neighbourhood, latitude, longitude, room_type, price, minimum_nights, number_of_reviews, last_review, reviews_per_month, calculated_host_listings_count, availability_365]\n",
       "Index: []"
      ]
     },
     "execution_count": 26,
     "metadata": {},
     "output_type": "execute_result"
    }
   ],
   "source": [
    "data[(data.price<lower_limit)|(data.price>upper_limit)]"
   ]
  },
  {
   "cell_type": "markdown",
   "id": "5c853c92",
   "metadata": {},
   "source": [
    "### By using ScatterPlot visualizing the neighbourhood groups to get a better insight"
   ]
  },
  {
   "cell_type": "code",
   "execution_count": 28,
   "id": "647fee22",
   "metadata": {},
   "outputs": [
    {
     "name": "stderr",
     "output_type": "stream",
     "text": [
      "C:\\Users\\somas\\anaconda3\\lib\\site-packages\\seaborn\\_decorators.py:36: FutureWarning: Pass the following variables as keyword args: x, y. From version 0.12, the only valid positional argument will be `data`, and passing other arguments without an explicit keyword will result in an error or misinterpretation.\n",
      "  warnings.warn(\n"
     ]
    },
    {
     "data": {
      "text/plain": [
       "<matplotlib.pyplot._IoffContext at 0x23f9397af10>"
      ]
     },
     "execution_count": 28,
     "metadata": {},
     "output_type": "execute_result"
    },
    {
     "data": {
      "image/png": "[encoded data removed]",
      "text/plain": [
       "<Figure size 720x432 with 1 Axes>"
      ]
     },
     "metadata": {
      "needs_background": "light"
     },
     "output_type": "display_data"
    }
   ],
   "source": [
    "plt.figure(figsize=(10,6))\n",
    "sns.scatterplot(data.longitude,data.latitude,hue=data.neighbourhood_group)"
   ]
  },
  {
   "cell_type": "markdown",
   "id": "6048238a",
   "metadata": {},
   "source": [
    "#### Above plot represents on which area has most listings on airbnb"
   ]
  },
  {
   "cell_type": "markdown",
   "id": "5a4ac47c",
   "metadata": {},
   "source": [
    "### Most Expensive Room Type"
   ]
  },
  {
   "cell_type": "code",
   "execution_count": 27,
   "id": "b12f9b57",
   "metadata": {},
   "outputs": [
    {
     "data": {
      "image/png": "[encoded data removed]",
      "text/plain": [
       "<Figure size 576x432 with 1 Axes>"
      ]
     },
     "metadata": {
      "needs_background": "light"
     },
     "output_type": "display_data"
    }
   ],
   "source": [
    "room_types = data.groupby('room_type')\n",
    "prices = room_types['price'].mean().sort_values(ascending = True)\n",
    "prices.plot(kind = 'bar',color = ['Skyblue','orange','Red'],figsize = (8, 6))\n",
    "plt.title('Cost per room type', fontsize = 20)\n",
    "plt.xlabel('Room Type')\n",
    "plt.ylabel('Cost in $')\n",
    "plt.show()"
   ]
  },
  {
   "cell_type": "markdown",
   "id": "4943859f",
   "metadata": {},
   "source": [
    "#### From the above bar chart we can conclude that Entire home/apt is expensive compared to the other room types as it contains the higher cost price and now lets see the most common in these room types"
   ]
  },
  {
   "cell_type": "code",
   "execution_count": 48,
   "id": "91928dca",
   "metadata": {},
   "outputs": [
    {
     "data": {
      "text/plain": [
       "array(['Private room', 'Entire home/apt', 'Shared room'], dtype=object)"
      ]
     },
     "execution_count": 48,
     "metadata": {},
     "output_type": "execute_result"
    }
   ],
   "source": [
    "data.room_type.unique()"
   ]
  },
  {
   "cell_type": "markdown",
   "id": "13d0f5dc",
   "metadata": {},
   "source": [
    "### Common Room Type"
   ]
  },
  {
   "cell_type": "code",
   "execution_count": 30,
   "id": "e3071425",
   "metadata": {},
   "outputs": [
    {
     "data": {
      "text/plain": [
       "Text(0.5, 1.0, 'Pie Chart for Room Type Distribution')"
      ]
     },
     "execution_count": 30,
     "metadata": {},
     "output_type": "execute_result"
    },
    {
     "data": {
      "image/png": "[encoded data removed]",
      "text/plain": [
       "<Figure size 720x576 with 1 Axes>"
      ]
     },
     "metadata": {},
     "output_type": "display_data"
    }
   ],
   "source": [
    "explode = (0.05, 0.05,0.05)\n",
    "data['room_type'].value_counts().plot(kind = 'pie', autopct = '%.2f', figsize = (10, 8), explode = explode, shadow = True )\n",
    "plt.title('Pie Chart for Room Type Distribution', fontsize = 25)"
   ]
  },
  {
   "cell_type": "markdown",
   "id": "3d594b55",
   "metadata": {},
   "source": [
    "####  Here by the pie chart we can observe that the most common room is Entire home/apt , even though it is costlier than the rest which we found out by barchart it remains as commonly used Room Type"
   ]
  },
  {
   "cell_type": "markdown",
   "id": "1563da4b",
   "metadata": {},
   "source": [
    "### 3. What can we learn about different areas , prices and reviews?\n",
    "  #### Predictions "
   ]
  },
  {
   "cell_type": "code",
   "execution_count": 22,
   "id": "0dcaecde",
   "metadata": {},
   "outputs": [
    {
     "data": {
      "text/html": [
       "<div>\n",
       "<style scoped>\n",
       "    .dataframe tbody tr th:only-of-type {\n",
       "        vertical-align: middle;\n",
       "    }\n",
       "\n",
       "    .dataframe tbody tr th {\n",
       "        vertical-align: top;\n",
       "    }\n",
       "\n",
       "    .dataframe thead th {\n",
       "        text-align: right;\n",
       "    }\n",
       "</style>\n",
       "<table border=\"1\" class=\"dataframe\">\n",
       "  <thead>\n",
       "    <tr style=\"text-align: right;\">\n",
       "      <th></th>\n",
       "      <th>host_name</th>\n",
       "      <th>neighbourhood_group</th>\n",
       "      <th>calculated_host_listings_count</th>\n",
       "    </tr>\n",
       "  </thead>\n",
       "  <tbody>\n",
       "    <tr>\n",
       "      <th>13217</th>\n",
       "      <td>Sonder (NYC)</td>\n",
       "      <td>Manhattan</td>\n",
       "      <td>327</td>\n",
       "    </tr>\n",
       "    <tr>\n",
       "      <th>1834</th>\n",
       "      <td>Blueground</td>\n",
       "      <td>Manhattan</td>\n",
       "      <td>232</td>\n",
       "    </tr>\n",
       "    <tr>\n",
       "      <th>1833</th>\n",
       "      <td>Blueground</td>\n",
       "      <td>Brooklyn</td>\n",
       "      <td>232</td>\n",
       "    </tr>\n",
       "    <tr>\n",
       "      <th>7275</th>\n",
       "      <td>Kara</td>\n",
       "      <td>Manhattan</td>\n",
       "      <td>121</td>\n",
       "    </tr>\n",
       "    <tr>\n",
       "      <th>7480</th>\n",
       "      <td>Kazuya</td>\n",
       "      <td>Queens</td>\n",
       "      <td>103</td>\n",
       "    </tr>\n",
       "    <tr>\n",
       "      <th>7479</th>\n",
       "      <td>Kazuya</td>\n",
       "      <td>Manhattan</td>\n",
       "      <td>103</td>\n",
       "    </tr>\n",
       "    <tr>\n",
       "      <th>7478</th>\n",
       "      <td>Kazuya</td>\n",
       "      <td>Brooklyn</td>\n",
       "      <td>103</td>\n",
       "    </tr>\n",
       "    <tr>\n",
       "      <th>13216</th>\n",
       "      <td>Sonder</td>\n",
       "      <td>Manhattan</td>\n",
       "      <td>96</td>\n",
       "    </tr>\n",
       "    <tr>\n",
       "      <th>6540</th>\n",
       "      <td>Jeremy &amp; Laura</td>\n",
       "      <td>Manhattan</td>\n",
       "      <td>96</td>\n",
       "    </tr>\n",
       "    <tr>\n",
       "      <th>2901</th>\n",
       "      <td>Corporate Housing</td>\n",
       "      <td>Manhattan</td>\n",
       "      <td>91</td>\n",
       "    </tr>\n",
       "  </tbody>\n",
       "</table>\n",
       "</div>"
      ],
      "text/plain": [
       "               host_name neighbourhood_group  calculated_host_listings_count\n",
       "13217       Sonder (NYC)           Manhattan                             327\n",
       "1834          Blueground           Manhattan                             232\n",
       "1833          Blueground            Brooklyn                             232\n",
       "7275                Kara           Manhattan                             121\n",
       "7480              Kazuya              Queens                             103\n",
       "7479              Kazuya           Manhattan                             103\n",
       "7478              Kazuya            Brooklyn                             103\n",
       "13216             Sonder           Manhattan                              96\n",
       "6540      Jeremy & Laura           Manhattan                              96\n",
       "2901   Corporate Housing           Manhattan                              91"
      ]
     },
     "execution_count": 22,
     "metadata": {},
     "output_type": "execute_result"
    }
   ],
   "source": [
    "host_areas = data.groupby(['host_name','neighbourhood_group'])['calculated_host_listings_count'].max().reset_index()\n",
    "host_areas.sort_values('calculated_host_listings_count',ascending = False).head(10)"
   ]
  },
  {
   "cell_type": "markdown",
   "id": "4a88dd27",
   "metadata": {},
   "source": [
    "#### The most of the listings are from Manhattan by Sonder, Blueground, Kara etc.,"
   ]
  },
  {
   "cell_type": "code",
   "execution_count": 37,
   "id": "c29112e8",
   "metadata": {},
   "outputs": [
    {
     "data": {
      "text/html": [
       "<div>\n",
       "<style scoped>\n",
       "    .dataframe tbody tr th:only-of-type {\n",
       "        vertical-align: middle;\n",
       "    }\n",
       "\n",
       "    .dataframe tbody tr th {\n",
       "        vertical-align: top;\n",
       "    }\n",
       "\n",
       "    .dataframe thead th {\n",
       "        text-align: right;\n",
       "    }\n",
       "</style>\n",
       "<table border=\"1\" class=\"dataframe\">\n",
       "  <thead>\n",
       "    <tr style=\"text-align: right;\">\n",
       "      <th></th>\n",
       "      <th>neighbourhood_group</th>\n",
       "      <th>number_of_reviews</th>\n",
       "    </tr>\n",
       "  </thead>\n",
       "  <tbody>\n",
       "    <tr>\n",
       "      <th>0</th>\n",
       "      <td>Bronx</td>\n",
       "      <td>321</td>\n",
       "    </tr>\n",
       "    <tr>\n",
       "      <th>1</th>\n",
       "      <td>Brooklyn</td>\n",
       "      <td>488</td>\n",
       "    </tr>\n",
       "    <tr>\n",
       "      <th>2</th>\n",
       "      <td>Manhattan</td>\n",
       "      <td>607</td>\n",
       "    </tr>\n",
       "    <tr>\n",
       "      <th>3</th>\n",
       "      <td>Queens</td>\n",
       "      <td>629</td>\n",
       "    </tr>\n",
       "    <tr>\n",
       "      <th>4</th>\n",
       "      <td>Staten Island</td>\n",
       "      <td>333</td>\n",
       "    </tr>\n",
       "  </tbody>\n",
       "</table>\n",
       "</div>"
      ],
      "text/plain": [
       "  neighbourhood_group  number_of_reviews\n",
       "0               Bronx                321\n",
       "1            Brooklyn                488\n",
       "2           Manhattan                607\n",
       "3              Queens                629\n",
       "4       Staten Island                333"
      ]
     },
     "execution_count": 37,
     "metadata": {},
     "output_type": "execute_result"
    }
   ],
   "source": [
    "areas_review = data.groupby(['neighbourhood_group'])['number_of_reviews'].max().reset_index()\n",
    "areas_review"
   ]
  },
  {
   "cell_type": "markdown",
   "id": "a7d37f98",
   "metadata": {},
   "source": [
    "#### Here these neighbourhood groups have most no.of reviews which means they must be tourist places, because tourist places get most reviews\n",
    "#### now lets see more clearly by plotting the above in a bar chart"
   ]
  },
  {
   "cell_type": "code",
   "execution_count": 34,
   "id": "a2854018",
   "metadata": {},
   "outputs": [
    {
     "data": {
      "image/png": "[encoded data removed]",
      "text/plain": [
       "<Figure size 720x360 with 1 Axes>"
      ]
     },
     "metadata": {
      "needs_background": "light"
     },
     "output_type": "display_data"
    }
   ],
   "source": [
    "area = areas_review['neighbourhood_group']\n",
    "review = areas_review['number_of_reviews']\n",
    "\n",
    "fig = plt.figure(figsize = (10, 5))\n",
    " \n",
    "plt.bar(area, review, width = 0.5)\n",
    "plt.xlabel(\"area\")\n",
    "plt.ylabel(\"review\")\n",
    "plt.title(\"Area vs Number of reviews\")\n",
    "plt.show()"
   ]
  },
  {
   "cell_type": "markdown",
   "id": "724e01e8",
   "metadata": {},
   "source": [
    "#### The most reviewed areas are Queens and Manhattan, By this we can say most tourists are visiting these areas in NewYork which means there will be a lot of traffic in the above areas"
   ]
  },
  {
   "cell_type": "code",
   "execution_count": null,
   "id": "07fd281d",
   "metadata": {},
   "outputs": [],
   "source": []
  },
  {
   "cell_type": "code",
   "execution_count": null,
   "id": "16dcaba3",
   "metadata": {},
   "outputs": [],
   "source": []
  },
  {
   "cell_type": "code",
   "execution_count": null,
   "id": "02c71f2a",
   "metadata": {},
   "outputs": [],
   "source": []
  },
  {
   "cell_type": "code",
   "execution_count": null,
   "id": "e614fe34",
   "metadata": {},
   "outputs": [],
   "source": []
  },
  {
   "cell_type": "code",
   "execution_count": null,
   "id": "d965a080",
   "metadata": {},
   "outputs": [],
   "source": []
  },
  {
   "cell_type": "code",
   "execution_count": null,
   "id": "e707ba27",
   "metadata": {},
   "outputs": [],
   "source": []
  },
  {
   "cell_type": "code",
   "execution_count": null,
   "id": "5d18343c",
   "metadata": {},
   "outputs": [],
   "source": []
  }
 ],
 "metadata": {
  "kernelspec": {
   "display_name": "Python 3 (ipykernel)",
   "language": "python",
   "name": "python3"
  },
  "language_info": {
   "codemirror_mode": {
    "name": "ipython",
    "version": 3
   },
   "file_extension": ".py",
   "mimetype": "text/x-python",
   "name": "python",
   "nbconvert_exporter": "python",
   "pygments_lexer": "ipython3",
   "version": "3.9.7"
  }
 },
 "nbformat": 4,
 "nbformat_minor": 5
}
